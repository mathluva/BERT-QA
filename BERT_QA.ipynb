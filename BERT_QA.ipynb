{
  "nbformat": 4,
  "nbformat_minor": 0,
  "metadata": {
    "colab": {
      "name": "BERT-QA.ipynb",
      "provenance": [],
      "collapsed_sections": [],
      "authorship_tag": "ABX9TyMhb7mHC6Q2XNQYhiS9TuFz",
      "include_colab_link": true
    },
    "kernelspec": {
      "name": "python3",
      "display_name": "Python 3"
    },
    "language_info": {
      "name": "python"
    },
    "accelerator": "GPU"
  },
  "cells": [
    {
      "cell_type": "markdown",
      "metadata": {
        "id": "view-in-github",
        "colab_type": "text"
      },
      "source": [
        "<a href=\"https://colab.research.google.com/github/mathluva/BERT-QA/blob/main/BERT_QA.ipynb\" target=\"_parent\"><img src=\"https://colab.research.google.com/assets/colab-badge.svg\" alt=\"Open In Colab\"/></a>"
      ]
    },
    {
      "cell_type": "code",
      "metadata": {
        "colab": {
          "base_uri": "https://localhost:8080/"
        },
        "id": "UGr95AW1-H0v",
        "outputId": "081e2218-be01-46ef-c58b-2be9a17070b4"
      },
      "source": [
        "!pip install transformers\n",
        "!pip install torch"
      ],
      "execution_count": 6,
      "outputs": [
        {
          "output_type": "stream",
          "text": [
            "Requirement already satisfied: transformers in /usr/local/lib/python3.7/dist-packages (4.5.0)\n",
            "Requirement already satisfied: tqdm>=4.27 in /usr/local/lib/python3.7/dist-packages (from transformers) (4.41.1)\n",
            "Requirement already satisfied: requests in /usr/local/lib/python3.7/dist-packages (from transformers) (2.23.0)\n",
            "Requirement already satisfied: tokenizers<0.11,>=0.10.1 in /usr/local/lib/python3.7/dist-packages (from transformers) (0.10.2)\n",
            "Requirement already satisfied: importlib-metadata; python_version < \"3.8\" in /usr/local/lib/python3.7/dist-packages (from transformers) (3.8.1)\n",
            "Requirement already satisfied: numpy>=1.17 in /usr/local/lib/python3.7/dist-packages (from transformers) (1.19.5)\n",
            "Requirement already satisfied: filelock in /usr/local/lib/python3.7/dist-packages (from transformers) (3.0.12)\n",
            "Requirement already satisfied: regex!=2019.12.17 in /usr/local/lib/python3.7/dist-packages (from transformers) (2019.12.20)\n",
            "Requirement already satisfied: packaging in /usr/local/lib/python3.7/dist-packages (from transformers) (20.9)\n",
            "Requirement already satisfied: sacremoses in /usr/local/lib/python3.7/dist-packages (from transformers) (0.0.44)\n",
            "Requirement already satisfied: idna<3,>=2.5 in /usr/local/lib/python3.7/dist-packages (from requests->transformers) (2.10)\n",
            "Requirement already satisfied: chardet<4,>=3.0.2 in /usr/local/lib/python3.7/dist-packages (from requests->transformers) (3.0.4)\n",
            "Requirement already satisfied: certifi>=2017.4.17 in /usr/local/lib/python3.7/dist-packages (from requests->transformers) (2020.12.5)\n",
            "Requirement already satisfied: urllib3!=1.25.0,!=1.25.1,<1.26,>=1.21.1 in /usr/local/lib/python3.7/dist-packages (from requests->transformers) (1.24.3)\n",
            "Requirement already satisfied: typing-extensions>=3.6.4; python_version < \"3.8\" in /usr/local/lib/python3.7/dist-packages (from importlib-metadata; python_version < \"3.8\"->transformers) (3.7.4.3)\n",
            "Requirement already satisfied: zipp>=0.5 in /usr/local/lib/python3.7/dist-packages (from importlib-metadata; python_version < \"3.8\"->transformers) (3.4.1)\n",
            "Requirement already satisfied: pyparsing>=2.0.2 in /usr/local/lib/python3.7/dist-packages (from packaging->transformers) (2.4.7)\n",
            "Requirement already satisfied: six in /usr/local/lib/python3.7/dist-packages (from sacremoses->transformers) (1.15.0)\n",
            "Requirement already satisfied: joblib in /usr/local/lib/python3.7/dist-packages (from sacremoses->transformers) (1.0.1)\n",
            "Requirement already satisfied: click in /usr/local/lib/python3.7/dist-packages (from sacremoses->transformers) (7.1.2)\n",
            "Requirement already satisfied: torch in /usr/local/lib/python3.7/dist-packages (1.8.1+cu101)\n",
            "Requirement already satisfied: typing-extensions in /usr/local/lib/python3.7/dist-packages (from torch) (3.7.4.3)\n",
            "Requirement already satisfied: numpy in /usr/local/lib/python3.7/dist-packages (from torch) (1.19.5)\n"
          ],
          "name": "stdout"
        }
      ]
    },
    {
      "cell_type": "code",
      "metadata": {
        "id": "8jb5E2fo-TvY"
      },
      "source": [
        "from transformers import BertForQuestionAnswering\n",
        "from transformers import BertTokenizer\n",
        "import torch\n",
        "import numpy as np"
      ],
      "execution_count": 7,
      "outputs": []
    },
    {
      "cell_type": "code",
      "metadata": {
        "id": "IDbHp6l--me6"
      },
      "source": [
        "model = BertForQuestionAnswering.from_pretrained('bert-large-uncased-whole-word-masking-finetuned-squad')"
      ],
      "execution_count": 8,
      "outputs": []
    },
    {
      "cell_type": "code",
      "metadata": {
        "id": "bWMC2C7fAHJb"
      },
      "source": [
        "#BERT tokenizer\n",
        "tokenizer_for_bert = BertTokenizer.from_pretrained('bert-large-uncased-whole-word-masking-finetuned-squad')"
      ],
      "execution_count": 9,
      "outputs": []
    },
    {
      "cell_type": "code",
      "metadata": {
        "id": "px-3aK2iApDz"
      },
      "source": [
        "def bert_answering_machine(question, passage):\n",
        "\n",
        "    #tokenize input question and passage, add special tokens\n",
        "    input_ids = tokenizer_for_bert.encode(question, passage)\n",
        "\n",
        "\n",
        "    cls_index = input_ids.index(102) #index of first SEP token\n",
        "    len_question = cls_index +1 #length of question (sentence 1)\n",
        "    len_answer = len(input_ids) - len_question #length of sentence 2\n",
        "\n",
        "    #segment ids to distinguish between the two sentences\n",
        "    #apply 0 for sentence 1 and apply 1 for sentence 2\n",
        "    segment_ids = [0]*len_question + [1]*len_answer\n",
        "\n",
        "    \n",
        "    \n",
        "   \n",
        "    \n",
        "\n",
        "   #Converting token ids to tokens\n",
        "    tokens = tokenizer_for_bert.convert_ids_to_tokens(input_ids) \n",
        "    \n",
        "    \n",
        "    # getting start and end scores for answer. Converting input arrays to torch tensors before passing to the model\n",
        "    start_token_scores = model(torch.tensor([input_ids]), token_type_ids=torch.tensor([segment_ids]) )[0]\n",
        "    end_token_scores = model(torch.tensor([input_ids]), token_type_ids=torch.tensor([segment_ids]) )[1]\n",
        "\n",
        "    #Converting scores tensors to numpy arrays so that we can use numpy functions\n",
        "    start_token_scores = start_token_scores.detach().numpy().flatten()\n",
        "    end_token_scores = end_token_scores.detach().numpy().flatten()\n",
        "    \n",
        "    #Picking start index and end index of answer based on start/end indices with highest scores\n",
        "    answer_start_index = np.argmax(start_token_scores)\n",
        "    answer_end_index = np.argmax(end_token_scores)\n",
        "\n",
        "    #Getting scores for start token and end token of the answer. Also rounding it to 2 decimal digits\n",
        "    start_token_score = np.round(start_token_scores[answer_start_index], 2)\n",
        "    end_token_score = np.round(end_token_scores[answer_end_index], 2)\n",
        "\n",
        "\n",
        "\n",
        "    answer = tokens[answer_start_index] #Answer starts with start index, we got based on highest score\n",
        "    for i in range(answer_start_index + 1, answer_end_index + 1):\n",
        "        if tokens[i][0:2] == '##':  # Token for a splitted word starts with ##\n",
        "            answer += tokens[i][2:] # If token start with ## we remove ## and combine it with previous word so as to restore the unsplitted word\n",
        "        else:\n",
        "            answer += ' ' + tokens[i]  # If token does not start with ## we just put a space in between while combining tokens\n",
        "            \n",
        "    # Few patterns indicating that BERT does not get answer from the passage for question asked\n",
        "    if ( answer_start_index == 0) or (start_token_score < 0 ) or  (answer == '[SEP]') or ( answer_end_index <  answer_start_index):\n",
        "        answer = \"Sorry!, I could not find  an answer in the passage.\"\n",
        "    \n",
        "    return ( answer_start_index, answer_end_index, start_token_score, end_token_score,  answer)\n",
        "\n"
      ],
      "execution_count": 12,
      "outputs": []
    },
    {
      "cell_type": "code",
      "metadata": {
        "id": "4kdIA6cL60fV",
        "colab": {
          "base_uri": "https://localhost:8080/"
        },
        "outputId": "a66d6e35-94d9-4b5c-c6cf-684227e3a484"
      },
      "source": [
        "_,_,_,_,ans = bert_answering_machine (\"Where does Tiffany's mom live?\", \"Tiffany was born in Norfolk, VA.  Her mom, Cora, was born in Columbus, Ohio.  Cora has also lived in Fl, GA and NJ.  She currently resides in Raleigh,NC.\")\n",
        "print(ans)"
      ],
      "execution_count": 13,
      "outputs": [
        {
          "output_type": "stream",
          "text": [
            "raleigh , nc\n"
          ],
          "name": "stdout"
        }
      ]
    },
    {
      "cell_type": "code",
      "metadata": {
        "id": "PFFz1NMB7cYR",
        "colab": {
          "base_uri": "https://localhost:8080/"
        },
        "outputId": "9c46ad0e-f57f-4a3c-8c0d-557587b1d6f5"
      },
      "source": [
        "_,_,_,_,ans = bert_answering_machine (\"What is Cora's daughter name?\", \"Tiffany was born in Norfolk, VA.  Her mom, Cora, was born in Columbus, Ohio.  Cora has also lived in Fl, GA and NJ.  She currently resides in Raleigh,NC.\")\n",
        "print(ans)"
      ],
      "execution_count": 16,
      "outputs": [
        {
          "output_type": "stream",
          "text": [
            "tiffany\n"
          ],
          "name": "stdout"
        }
      ]
    },
    {
      "cell_type": "code",
      "metadata": {
        "colab": {
          "base_uri": "https://localhost:8080/"
        },
        "id": "DNlqs9CxFvec",
        "outputId": "21f94227-9a14-4fc8-c0e6-4dce4375916b"
      },
      "source": [
        "_,_,_,_,ans = bert_answering_machine (\"What states did Tiffany's mom live in?\", \"Tiffany was born in Norfolk, VA.  Her mom, Cora, was born in Columbus, Ohio.  Cora has also lived in Fl, GA and NJ.  She currently resides in Raleigh,NC.\")\n",
        "print(ans)"
      ],
      "execution_count": 17,
      "outputs": [
        {
          "output_type": "stream",
          "text": [
            "fl , ga and nj\n"
          ],
          "name": "stdout"
        }
      ]
    },
    {
      "cell_type": "code",
      "metadata": {
        "colab": {
          "base_uri": "https://localhost:8080/"
        },
        "id": "qDpLgzLqGXKi",
        "outputId": "601ce4b7-1040-4415-a6eb-e0b00f16207a"
      },
      "source": [
        "_,_,_,_,ans = bert_answering_machine (\"What is Louis's occupation?\",\"Louis is a landscape technician, mechanic and chef. On the weekends, he enjoys spending time with his wife Tiffany and working on his vehicles.\")\n",
        "print(ans)"
      ],
      "execution_count": 22,
      "outputs": [
        {
          "output_type": "stream",
          "text": [
            "landscape technician , mechanic and chef\n"
          ],
          "name": "stdout"
        }
      ]
    },
    {
      "cell_type": "code",
      "metadata": {
        "colab": {
          "base_uri": "https://localhost:8080/"
        },
        "id": "dNPkDfbvG7-1",
        "outputId": "af998a01-ea12-4c89-94e5-40af59b73bdc"
      },
      "source": [
        "_,_,_,_,ans = bert_answering_machine (\"What does Louis like to during his spare time?\",\"Louis is a landscape technician, mechanic and chef. On the weekends, he enjoys spending time with his wife Tiffany and working on his vehicles.\")\n",
        "print(ans)"
      ],
      "execution_count": 24,
      "outputs": [
        {
          "output_type": "stream",
          "text": [
            "working on his vehicles\n"
          ],
          "name": "stdout"
        }
      ]
    },
    {
      "cell_type": "code",
      "metadata": {
        "colab": {
          "base_uri": "https://localhost:8080/"
        },
        "id": "LR35ZQc4HVHN",
        "outputId": "6bc14f92-6e23-4329-9339-d082ac1252c5"
      },
      "source": [
        "_,_,_,_,ans = bert_answering_machine (\"Is Joy's sister married?\",\"Joy is a teacher and law student.  She wants to practice restorative justice. She plans to take the bar in February of 2022.  Her older sister, Anika, lives in florida with her wife.\")\n",
        "print(ans)"
      ],
      "execution_count": 25,
      "outputs": [
        {
          "output_type": "stream",
          "text": [
            "her wife\n"
          ],
          "name": "stdout"
        }
      ]
    },
    {
      "cell_type": "code",
      "metadata": {
        "id": "WMNa72okJyev",
        "outputId": "90c5933b-d34e-4099-c25f-29eb47d36ebd",
        "colab": {
          "base_uri": "https://localhost:8080/"
        }
      },
      "source": [
        "_,_,_,_,ans = bert_answering_machine (\"What does Joy plan to do in February?\",\"Joy is a teacher and law student.  She wants to practice restorative justice. She plans to take the bar in February of 2022.  Her older sister, Anika, lives in florida with her wife.\")\n",
        "print(ans)"
      ],
      "execution_count": 26,
      "outputs": [
        {
          "output_type": "stream",
          "text": [
            "take the bar\n"
          ],
          "name": "stdout"
        }
      ]
    },
    {
      "cell_type": "code",
      "metadata": {
        "id": "4hE4PqvSJ_4U",
        "outputId": "42d28832-fca6-4c54-845a-ee17fded72ae",
        "colab": {
          "base_uri": "https://localhost:8080/"
        }
      },
      "source": [
        "_,_,_,_,ans = bert_answering_machine (\"What is restorative justice?\",\"Joy is a teacher and law student.  She wants to practice restorative justice. She plans to take the bar in February of 2022.  Her older sister, Anika, lives in florida with her wife.\")\n",
        "print(ans)"
      ],
      "execution_count": 27,
      "outputs": [
        {
          "output_type": "stream",
          "text": [
            "joy is a teacher and law student\n"
          ],
          "name": "stdout"
        }
      ]
    },
    {
      "cell_type": "code",
      "metadata": {
        "id": "6lfoC1F4KMlq",
        "outputId": "2bccd7ff-86f6-4664-d599-f951169269a0",
        "colab": {
          "base_uri": "https://localhost:8080/"
        }
      },
      "source": [
        "_,_,_,_,ans = bert_answering_machine (\"What job does Joy want after graduation?\",\"Joy is a teacher and law student.  She wants to practice restorative justice. She plans to take the bar in February of 2022.  Her older sister, Anika, lives in florida with her wife.\")\n",
        "print(ans)"
      ],
      "execution_count": 29,
      "outputs": [
        {
          "output_type": "stream",
          "text": [
            "teacher\n"
          ],
          "name": "stdout"
        }
      ]
    },
    {
      "cell_type": "code",
      "metadata": {
        "id": "n6z9J356K32w",
        "outputId": "8da61e29-6e49-4f4c-eee0-5c0a9ab303a7",
        "colab": {
          "base_uri": "https://localhost:8080/"
        }
      },
      "source": [
        "_,_,_,_,ans = bert_answering_machine (\"What job does joy want?\",\"Joy is a teacher and law student.  She wants to practice restorative justice. She plans to take the bar in February of 2022.  Her older sister, Anika, lives in florida with her wife.\")\n",
        "print(ans)"
      ],
      "execution_count": 30,
      "outputs": [
        {
          "output_type": "stream",
          "text": [
            "teacher and law student . she wants to practice restorative justice\n"
          ],
          "name": "stdout"
        }
      ]
    },
    {
      "cell_type": "code",
      "metadata": {
        "id": "jRvrNbnjLB7m",
        "outputId": "66febdbd-89a5-4956-b24c-80ce1dbc34d8",
        "colab": {
          "base_uri": "https://localhost:8080/"
        }
      },
      "source": [
        "_,_,_,_,ans = bert_answering_machine (\"Where does her sister live?\",\"Joy is a teacher and law student.  She wants to practice restorative justice. She plans to take the bar in February of 2022.  Her older sister, Anika, lives in florida with her wife.\")\n",
        "print(ans)"
      ],
      "execution_count": 31,
      "outputs": [
        {
          "output_type": "stream",
          "text": [
            "florida\n"
          ],
          "name": "stdout"
        }
      ]
    },
    {
      "cell_type": "code",
      "metadata": {
        "id": "tBMKsSI-LR5o"
      },
      "source": [
        ""
      ],
      "execution_count": null,
      "outputs": []
    }
  ]
}